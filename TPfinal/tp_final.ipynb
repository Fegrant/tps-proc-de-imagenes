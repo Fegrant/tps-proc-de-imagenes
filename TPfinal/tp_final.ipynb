{
 "cells": [
  {
   "cell_type": "code",
   "execution_count": 1,
   "metadata": {
    "pycharm": {
     "name": "#%%\n"
    }
   },
   "outputs": [],
   "source": [
    "import numpy as np\n",
    "import matplotlib.pyplot as plt\n",
    "from scipy.signal import convolve2d\n",
    "from scipy.fft import fft2\n",
    "from scipy.ndimage import gaussian_filter\n",
    "from skimage.filters import unsharp_mask\n",
    "import numpy as np\n",
    "import matplotlib.pyplot as plt\n",
    "from scipy.signal import convolve2d\n",
    "import cv2\n",
    "import numpy as np\n"
   ]
  },
  {
   "cell_type": "code",
   "execution_count": 41,
   "metadata": {},
   "outputs": [
    {
     "data": {
      "text/plain": [
       "True"
      ]
     },
     "execution_count": 41,
     "metadata": {},
     "output_type": "execute_result"
    }
   ],
   "source": [
    "color_image = cv2.imread('imgNocturna.png').astype(np.float64)\n",
    "\n",
    "# Parameters\n",
    "cutoff = 10 #frecuencia a la cual se produce la atenuación\n",
    "order = 2 #atenuación sea más o menos pronunciada\n",
    "Yh = 0.0999 \n",
    "Yl = 1.01\n",
    "\n",
    "homomorphic_image = np.zeros_like(color_image)\n",
    "\n",
    "for i in range(color_image.shape[2]):\n",
    "    color_channel = color_image[:, :, i]\n",
    "\n",
    "    # Add a small offset to avoid division by zero\n",
    "    epsilon = 1e-8\n",
    "    color_channel_offset = color_channel + epsilon\n",
    "\n",
    "    # Calculate the logarithm\n",
    "    color_channel_logued = np.log(1 + color_channel_offset)\n",
    "\n",
    "    # DFT\n",
    "    color_channel_dft = np.fft.fft2(color_channel_logued)\n",
    "\n",
    "    # Filter\n",
    "    x, y = color_channel.shape\n",
    "    A = np.zeros((x, y))\n",
    "    H = np.zeros((x, y))\n",
    "    d = cutoff\n",
    "    n = order\n",
    "\n",
    "    for j in range(x):\n",
    "        for k in range(y):\n",
    "            A[j, k] = np.sqrt((j - x / 2) ** 2 + (k - y / 2) ** 2)\n",
    "            if A[j, k] == 0:\n",
    "                H[j, k] = 0\n",
    "            else:\n",
    "                H[j, k] = 1 / (1 + ((d / A[j, k]) ** (2 * n)))\n",
    "\n",
    "    H = ((Yl - Yh) * H) + Yh\n",
    "    H = 1 - H\n",
    "\n",
    "    color_channel_f = H * color_channel_dft\n",
    "\n",
    "    # Inverse DFT\n",
    "    color_channel_n = np.abs(np.fft.ifft2(color_channel_f))\n",
    "\n",
    "    # Inverse log\n",
    "    color_channel_final = np.exp(color_channel_n)\n",
    "\n",
    "    # Update the original color channel with the processed values\n",
    "    homomorphic_image[:, :, i] = color_channel_final\n",
    "\n",
    "# Normalize and convert to uint8\n",
    "homomorphic_image = ((homomorphic_image - np.min(homomorphic_image)) / (np.max(homomorphic_image) - np.min(homomorphic_image)) * 255).astype(np.uint8)\n",
    "\n",
    "#Normalizar y suavizar:\n",
    "\n",
    "# Save the result\n",
    "cv2.imwrite('homomorphicColor1.png', homomorphic_image) #Homographic es del TP3"
   ]
  },
  {
   "cell_type": "code",
   "execution_count": 38,
   "metadata": {},
   "outputs": [
    {
     "data": {
      "text/plain": [
       "True"
      ]
     },
     "execution_count": 38,
     "metadata": {},
     "output_type": "execute_result"
    }
   ],
   "source": [
    "# Cargar la imagen en color\n",
    "image = cv2.imread('imgNocturna.png')\n",
    "\n",
    "# Convertir la imagen a escala de grises\n",
    "gray_image = cv2.cvtColor(image, cv2.COLOR_BGR2GRAY)\n",
    "\n",
    "# Oscurecer la imagen en escala de grises\n",
    "factor_oscurecimiento = 0.4\n",
    "darkened_gray_image = (gray_image * factor_oscurecimiento).astype(np.uint8)\n",
    "\n",
    "# Valor a usar para el high-boost\n",
    "A = 1.5\n",
    "\n",
    "mask = np.array([[-1, -1, -1],\n",
    "                [-1, A + 8, -1],\n",
    "                [-1, -1, -1]], dtype=np.float32)\n",
    "\n",
    "# Aplicar el filtro Laplaciano\n",
    "hb_laplacian = cv2.filter2D(darkened_gray_image, -1, mask)\n",
    "\n",
    "# Sumar el resultado al canal original\n",
    "hb_image = cv2.addWeighted(image, 1.0, cv2.cvtColor(hb_laplacian, cv2.COLOR_GRAY2BGR), 1.0, 0)\n",
    "\n",
    "# Para limitar los valores máximos de brillo (>255 ya satura)\n",
    "hb_image = np.clip(hb_image, 0, 255).astype(np.uint8)\n",
    "\n",
    "# Guardar las imágenes\n",
    "cv2.imwrite('results/original_image.png', image)\n",
    "cv2.imwrite('results/high_boosted_image_nocturna.png', hb_image) #HIGH BOOST TP3"
   ]
  },
  {
   "cell_type": "code",
   "execution_count": 46,
   "metadata": {},
   "outputs": [
    {
     "data": {
      "text/plain": [
       "True"
      ]
     },
     "execution_count": 46,
     "metadata": {},
     "output_type": "execute_result"
    }
   ],
   "source": [
    "# Aplicar suavizado \n",
    "\n",
    "# Cargar la imagen en color\n",
    "image = cv2.imread('homomorphicColor1.png')\n",
    "homomorphic_image_smoothed =  cv2.blur(image, (3, 3))\n",
    "\n",
    "# Guardar el resultado\n",
    "cv2.imwrite('homomorphicColor1_smoothed.png', homomorphic_image_smoothed)"
   ]
  },
  {
   "cell_type": "code",
   "execution_count": 6,
   "metadata": {},
   "outputs": [],
   "source": [
    "#Filtro pasa alto tp2--> para arbol navidad\n",
    "from skimage import io, color, img_as_ubyte\n",
    "from skimage.filters import unsharp_mask\n",
    "\n",
    "# Cargar la imagen a color\n",
    "image = io.imread('homomorphicColor1.png')\n",
    "\n",
    "# Aplicar unsharp mask a cada canal de color\n",
    "sharpened_channels = [unsharp_mask(channel, radius=1, amount=1.5) for channel in image.transpose(2, 0, 1)]\n",
    "\n",
    "# Combinar los canales\n",
    "sharpened_image = np.array(sharpened_channels).transpose(1, 2, 0)\n",
    "\n",
    "# Convertir la imagen de vuelta a formato de 8 bits\n",
    "sharpened_image = img_as_ubyte(sharpened_image)\n",
    "\n",
    "# Guardar la imagen mejorada\n",
    "io.imsave('sharpened_homotphic1.png', sharpened_image)\n"
   ]
  },
  {
   "cell_type": "code",
   "execution_count": 8,
   "metadata": {},
   "outputs": [],
   "source": [
    "from PIL import Image, ImageEnhance\n",
    "\n",
    "# Open the image\n",
    "image = Image.open('high_boosted_image_nocturna.png')\n",
    "\n",
    "# Create an ImageEnhance object and adjust the contrast\n",
    "# (factor > 1 increases contrast, factor < 1 decreases contrast)\n",
    "factor = 1.5  # You can adjust this value\n",
    "enhancer = ImageEnhance.Contrast(image)\n",
    "adjusted_image = enhancer.enhance(factor)\n",
    "\n",
    "\n",
    "# Save the adjusted image\n",
    "adjusted_image.save(f'results/high_boosted_image_nocturna_contrast{factor}.jpg')\n"
   ]
  },
  {
   "cell_type": "code",
   "execution_count": 9,
   "metadata": {},
   "outputs": [
    {
     "data": {
      "text/plain": [
       "True"
      ]
     },
     "execution_count": 9,
     "metadata": {},
     "output_type": "execute_result"
    }
   ],
   "source": [
    "#corrección gamma tp color\n",
    "def apply_gamma_correction(image, gamma=1.0):\n",
    "    # Normalizar los valores de píxeles al rango [0, 1]\n",
    "    normalized_image = image / 255.0\n",
    "    \n",
    "    # Aplicar la corrección gamma\n",
    "    gamma_corrected_image = np.power(normalized_image, 1.0 / gamma)\n",
    "    \n",
    "    # Escalar nuevamente al rango [0, 255]\n",
    "    gamma_corrected_image = (gamma_corrected_image * 255).astype(np.uint8)\n",
    "\n",
    "    return gamma_corrected_image\n",
    "\n",
    "# Cargar la imagen\n",
    "image = cv2.imread('high_boosted_image_2.png')\n",
    "\n",
    "# Aplicar corrección gamma con un valor específico (puedes ajustar este valor)\n",
    "gamma_value = 1.5\n",
    "gamma_corrected_image = apply_gamma_correction(image, gamma=gamma_value)\n",
    "\n",
    "cv2.imwrite('high_boosted_image_2_correccion_gamma.png', gamma_corrected_image)"
   ]
  },
  {
   "cell_type": "code",
   "execution_count": null,
   "metadata": {},
   "outputs": [],
   "source": [
    "#interpolacion? "
   ]
  },
  {
   "cell_type": "code",
   "execution_count": null,
   "metadata": {},
   "outputs": [],
   "source": [
    "#HDR?\t"
   ]
  }
 ],
 "metadata": {
  "kernelspec": {
   "display_name": "Python 3",
   "language": "python",
   "name": "python3"
  },
  "language_info": {
   "codemirror_mode": {
    "name": "ipython",
    "version": 3
   },
   "file_extension": ".py",
   "mimetype": "text/x-python",
   "name": "python",
   "nbconvert_exporter": "python",
   "pygments_lexer": "ipython3",
   "version": "3.10.6"
  },
  "orig_nbformat": 4
 },
 "nbformat": 4,
 "nbformat_minor": 2
}
